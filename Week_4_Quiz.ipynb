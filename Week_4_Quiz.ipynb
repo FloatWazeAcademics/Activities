{
 "cells": [
  {
   "cell_type": "code",
   "execution_count": 8,
   "metadata": {},
   "outputs": [
    {
     "name": "stdout",
     "output_type": "stream",
     "text": [
      "2\n",
      "4\n",
      "6\n",
      "8\n",
      "10\n",
      "12\n",
      "14\n",
      "16\n",
      "18\n",
      "20\n"
     ]
    }
   ],
   "source": [
    "# 1. Write a Python program that prints all even numbers from 1 to 20 using a for loop.\n",
    "# Your program should exclude odd numbers.\n",
    "\n",
    "# Your code here\n",
    "\n",
    "for i in range (2,21,2):\n",
    "    print(i)\n",
    "\n"
   ]
  },
  {
   "cell_type": "code",
   "execution_count": 1,
   "metadata": {},
   "outputs": [],
   "source": [
    "# 2. Create a Python function called 'calculate_area' that takes two arguments: length and width.\n",
    "# Inside the function, calculate and return the area of a rectangle.\n",
    "\n",
    "# Your code here\n",
    "\n",
    "length = int(input())\n",
    "width = int(input())\n",
    "\n",
    "calculate_area = length * width\n",
    "\n",
    "print(calculate_area)\n"
   ]
  },
  {
   "cell_type": "code",
   "execution_count": 2,
   "metadata": {},
   "outputs": [
    {
     "name": "stdout",
     "output_type": "stream",
     "text": [
      "1\n",
      "3\n",
      "6\n",
      "10\n",
      "15\n",
      "21\n",
      "28\n",
      "36\n",
      "45\n",
      "55\n"
     ]
    }
   ],
   "source": [
    "# 3. Write a Python program that uses a while loop to calculate the sum of all integers from 1 to 10.\n",
    "# Print the final sum.\n",
    "\n",
    "# Your code here\n",
    "\n",
    "start = 0\n",
    "total = 0\n",
    "\n",
    "while start != 10:\n",
    "    start+=1\n",
    "    total+=start\n",
    "\n",
    "    print(total)"
   ]
  },
  {
   "cell_type": "code",
   "execution_count": 10,
   "metadata": {},
   "outputs": [
    {
     "data": {
      "text/plain": [
       "numpy.ndarray"
      ]
     },
     "execution_count": 10,
     "metadata": {},
     "output_type": "execute_result"
    }
   ],
   "source": [
    "# 4. # Import the NumPy library and create a NumPy array 'my_array' with values [2, 4, 6, 8, 10]\n",
    "\n",
    "# Your code here\n",
    "\n",
    "\n",
    "import numpy as np\n",
    "my_array = np.array(['2', '4', '6', '8', '10'])\n",
    "\n",
    "type(my_array)\n",
    "\n"
   ]
  }
 ],
 "metadata": {
  "kernelspec": {
   "display_name": "Python 3",
   "language": "python",
   "name": "python3"
  },
  "language_info": {
   "codemirror_mode": {
    "name": "ipython",
    "version": 3
   },
   "file_extension": ".py",
   "mimetype": "text/x-python",
   "name": "python",
   "nbconvert_exporter": "python",
   "pygments_lexer": "ipython3",
   "version": "3.12.1"
  }
 },
 "nbformat": 4,
 "nbformat_minor": 2
}
